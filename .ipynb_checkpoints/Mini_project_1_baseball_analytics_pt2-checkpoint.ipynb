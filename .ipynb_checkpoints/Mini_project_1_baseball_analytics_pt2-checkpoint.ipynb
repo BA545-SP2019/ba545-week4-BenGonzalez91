{
 "cells": [
  {
   "cell_type": "markdown",
   "metadata": {},
   "source": [
    "# Mini Project #1: Baseball Analytics\n",
    "\n",
    "The overall purpose of this mini-project is to predicting MLB wins per season by modeling data to KMeans clustering model and linear regression models."
   ]
  },
  {
   "cell_type": "markdown",
   "metadata": {},
   "source": [
    "## Part 2: Further Data Handling\n",
    "\n",
    "In this part, you are going to conduct further data handling tasks to prepare your data for the analysis. The data handling include, but not limited to: \n",
    "- __feature engineering__, \n",
    "- more __data visualization__, \n",
    "- more on __binning your continuous variables__, \n",
    "- __correlation analysis__ and __correlation based feature selection__.\n",
    "\n",
    "Let's get started by importing the dependencies."
   ]
  },
  {
   "cell_type": "code",
   "execution_count": 107,
   "metadata": {
    "collapsed": true
   },
   "outputs": [],
   "source": [
    "import pandas as pd\n",
    "\n",
    "# We will need `numpy` in this part - so let's import it as well\n",
    "import numpy as np"
   ]
  },
  {
   "cell_type": "markdown",
   "metadata": {},
   "source": [
    "Now let's read the data we processed in Part1, and continue working on it."
   ]
  },
  {
   "cell_type": "code",
   "execution_count": 108,
   "metadata": {
    "collapsed": true
   },
   "outputs": [
    {
     "data": {
      "text/html": [
       "<div>\n",
       "<style scoped>\n",
       "    .dataframe tbody tr th:only-of-type {\n",
       "        vertical-align: middle;\n",
       "    }\n",
       "\n",
       "    .dataframe tbody tr th {\n",
       "        vertical-align: top;\n",
       "    }\n",
       "\n",
       "    .dataframe thead th {\n",
       "        text-align: right;\n",
       "    }\n",
       "</style>\n",
       "<table border=\"1\" class=\"dataframe\">\n",
       "  <thead>\n",
       "    <tr style=\"text-align: right;\">\n",
       "      <th></th>\n",
       "      <th>yearID</th>\n",
       "      <th>teamID</th>\n",
       "      <th>G</th>\n",
       "      <th>W</th>\n",
       "      <th>R</th>\n",
       "      <th>AB</th>\n",
       "      <th>H</th>\n",
       "      <th>2B</th>\n",
       "      <th>3B</th>\n",
       "      <th>HR</th>\n",
       "      <th>...</th>\n",
       "      <th>SV</th>\n",
       "      <th>IPouts</th>\n",
       "      <th>HA</th>\n",
       "      <th>HRA</th>\n",
       "      <th>BBA</th>\n",
       "      <th>SOA</th>\n",
       "      <th>E</th>\n",
       "      <th>DP</th>\n",
       "      <th>FP</th>\n",
       "      <th>Win_bins</th>\n",
       "    </tr>\n",
       "  </thead>\n",
       "  <tbody>\n",
       "    <tr>\n",
       "      <th>0</th>\n",
       "      <td>1961</td>\n",
       "      <td>LAA</td>\n",
       "      <td>162</td>\n",
       "      <td>70</td>\n",
       "      <td>744</td>\n",
       "      <td>5424</td>\n",
       "      <td>1331</td>\n",
       "      <td>218</td>\n",
       "      <td>22</td>\n",
       "      <td>189</td>\n",
       "      <td>...</td>\n",
       "      <td>34</td>\n",
       "      <td>4314</td>\n",
       "      <td>1391</td>\n",
       "      <td>180</td>\n",
       "      <td>713</td>\n",
       "      <td>973</td>\n",
       "      <td>192</td>\n",
       "      <td>154.0</td>\n",
       "      <td>0.969</td>\n",
       "      <td>3</td>\n",
       "    </tr>\n",
       "    <tr>\n",
       "      <th>1</th>\n",
       "      <td>1962</td>\n",
       "      <td>LAA</td>\n",
       "      <td>162</td>\n",
       "      <td>86</td>\n",
       "      <td>718</td>\n",
       "      <td>5499</td>\n",
       "      <td>1377</td>\n",
       "      <td>232</td>\n",
       "      <td>35</td>\n",
       "      <td>137</td>\n",
       "      <td>...</td>\n",
       "      <td>47</td>\n",
       "      <td>4398</td>\n",
       "      <td>1412</td>\n",
       "      <td>118</td>\n",
       "      <td>616</td>\n",
       "      <td>858</td>\n",
       "      <td>175</td>\n",
       "      <td>153.0</td>\n",
       "      <td>0.972</td>\n",
       "      <td>3</td>\n",
       "    </tr>\n",
       "    <tr>\n",
       "      <th>2</th>\n",
       "      <td>1963</td>\n",
       "      <td>LAA</td>\n",
       "      <td>161</td>\n",
       "      <td>70</td>\n",
       "      <td>597</td>\n",
       "      <td>5506</td>\n",
       "      <td>1378</td>\n",
       "      <td>208</td>\n",
       "      <td>38</td>\n",
       "      <td>95</td>\n",
       "      <td>...</td>\n",
       "      <td>31</td>\n",
       "      <td>4365</td>\n",
       "      <td>1317</td>\n",
       "      <td>120</td>\n",
       "      <td>578</td>\n",
       "      <td>889</td>\n",
       "      <td>163</td>\n",
       "      <td>155.0</td>\n",
       "      <td>0.974</td>\n",
       "      <td>3</td>\n",
       "    </tr>\n",
       "    <tr>\n",
       "      <th>3</th>\n",
       "      <td>1964</td>\n",
       "      <td>LAA</td>\n",
       "      <td>162</td>\n",
       "      <td>82</td>\n",
       "      <td>544</td>\n",
       "      <td>5362</td>\n",
       "      <td>1297</td>\n",
       "      <td>186</td>\n",
       "      <td>27</td>\n",
       "      <td>102</td>\n",
       "      <td>...</td>\n",
       "      <td>41</td>\n",
       "      <td>4350</td>\n",
       "      <td>1273</td>\n",
       "      <td>100</td>\n",
       "      <td>530</td>\n",
       "      <td>965</td>\n",
       "      <td>138</td>\n",
       "      <td>168.0</td>\n",
       "      <td>0.978</td>\n",
       "      <td>3</td>\n",
       "    </tr>\n",
       "    <tr>\n",
       "      <th>4</th>\n",
       "      <td>1965</td>\n",
       "      <td>CAL</td>\n",
       "      <td>162</td>\n",
       "      <td>75</td>\n",
       "      <td>527</td>\n",
       "      <td>5354</td>\n",
       "      <td>1279</td>\n",
       "      <td>200</td>\n",
       "      <td>36</td>\n",
       "      <td>92</td>\n",
       "      <td>...</td>\n",
       "      <td>33</td>\n",
       "      <td>4323</td>\n",
       "      <td>1259</td>\n",
       "      <td>91</td>\n",
       "      <td>563</td>\n",
       "      <td>847</td>\n",
       "      <td>123</td>\n",
       "      <td>149.0</td>\n",
       "      <td>0.981</td>\n",
       "      <td>3</td>\n",
       "    </tr>\n",
       "  </tbody>\n",
       "</table>\n",
       "<p>5 rows × 28 columns</p>\n",
       "</div>"
      ],
      "text/plain": [
       "   yearID teamID    G   W    R    AB     H   2B  3B   HR  ...  SV  IPouts  \\\n",
       "0    1961    LAA  162  70  744  5424  1331  218  22  189  ...  34    4314   \n",
       "1    1962    LAA  162  86  718  5499  1377  232  35  137  ...  47    4398   \n",
       "2    1963    LAA  161  70  597  5506  1378  208  38   95  ...  31    4365   \n",
       "3    1964    LAA  162  82  544  5362  1297  186  27  102  ...  41    4350   \n",
       "4    1965    CAL  162  75  527  5354  1279  200  36   92  ...  33    4323   \n",
       "\n",
       "     HA  HRA  BBA  SOA    E     DP     FP  Win_bins  \n",
       "0  1391  180  713  973  192  154.0  0.969         3  \n",
       "1  1412  118  616  858  175  153.0  0.972         3  \n",
       "2  1317  120  578  889  163  155.0  0.974         3  \n",
       "3  1273  100  530  965  138  168.0  0.978         3  \n",
       "4  1259   91  563  847  123  149.0  0.981         3  \n",
       "\n",
       "[5 rows x 28 columns]"
      ]
     },
     "execution_count": 108,
     "metadata": {},
     "output_type": "execute_result"
    }
   ],
   "source": [
    "df = pd.read_csv('./data/baseball_analytics_pt1.csv', header=0, index_col=0)\n",
    "\n",
    "df.head()"
   ]
  },
  {
   "cell_type": "markdown",
   "metadata": {},
   "source": [
    "### Feature Engineering\n",
    "\n",
    "Anyone who follows the game of baseball knows that, as Major League Baseball (MLB) progressed, different eras emerged where the amount of runs per game increased or decreased significantly. The dead ball era of the early 1900s is an example of a low scoring era and the steroid era at the turn of the 21st century is an example of a high scoring era. Hence, in this analysis, we want to exclude all the game data before the year `1900`."
   ]
  },
  {
   "cell_type": "code",
   "execution_count": 109,
   "metadata": {
    "collapsed": true
   },
   "outputs": [],
   "source": [
    "#Filtering the years before year 1900\n",
    "\n",
    "#### Complete your code below\n",
    "#### You can filter by the value of a certain column `col` in a dataframe `df` as:\n",
    "#### df[df[col] > some_value]\n",
    "#### then you want to save the filtered results as a new dataframe `df`\n",
    "df=df[df['yearID'] > 1900]"
   ]
  },
  {
   "cell_type": "markdown",
   "metadata": {},
   "source": [
    "If you are into baseball, you will know Runs per Game (RPG) is an important factor in the game results (winning or not). Since we do not have that feature in the dataset, we are going to create that feaure from the features we have. In the dataset `df`, we have the runs (`df['R']`) and games (`df['G']`) features. We are going to use them to create RPG.\n",
    "\n",
    "Firstly, we are doing the analysis on a yearly basis, so we need to aggregate the runs (`df['R']`) and games (`df['G']`) features to a yearly basis."
   ]
  },
  {
   "cell_type": "code",
   "execution_count": 110,
   "metadata": {
    "collapsed": true
   },
   "outputs": [
    {
     "name": "stdout",
     "output_type": "stream",
     "text": [
      "            R     G       RPG\n",
      "yearID                       \n",
      "1904     9307  2498  3.725781\n",
      "1905     9640  2474  3.896524\n",
      "1906     8322  2307  3.607282\n",
      "1907     8186  2317  3.533017\n",
      "1908     8423  2488  3.385450\n",
      "1909     8805  2482  3.547542\n",
      "1910     9580  2498  3.835068\n",
      "1911    11164  2474  4.512530\n",
      "1912    11154  2464  4.526786\n",
      "1913     9964  2468  4.037277\n"
     ]
    }
   ],
   "source": [
    "# Aggregate runs and games data to a yearly basis\n",
    "\n",
    "#### complete the code below\n",
    "#### Aggregation is a very important technique in dataframes\n",
    "#### `pandas` provides a good method called `groupby()` for that\n",
    "#### since we want to aggregate to a yearly basis, we are going to use the feature `yearID`\n",
    "#### and combine the `groupby()` results with `sum()` we will get the aggregated results\n",
    "\n",
    "#### create a new pandas series called `runs_per_year`, \n",
    "#### which is aggregating runs (`df['R']`) on a yearly basis\n",
    "runs_per_year=df.groupby(['yearID'])['R'].agg('sum')\n",
    "\n",
    "#### do the same for games (`df['G']`)\n",
    "games_per_year=df.groupby(['yearID'])['G'].agg('sum')\n",
    "\n",
    "#### We need to combine these two series into a dataframe ('rpg_df') to calculate RPG\n",
    "#### We can do that by using the `pd.concat()` method provided by `pandas`\n",
    "#### Since we want the two series are columns, we need to set the parameter `axis=1` in `concat()`\n",
    "rpg_df=pd.concat([runs_per_year,games_per_year],axis=1)\n",
    "\n",
    "#### Now we can calculate RPG: which is very simple: rpg = runs_per_year/games_per_year\n",
    "rpg_df['RPG']=rpg_df['R']/rpg_df['G']\n",
    "\n",
    "#### let's double check the values of `rpg_df` by looking at its first 10 values\n",
    "print(rpg_df[:10])"
   ]
  },
  {
   "cell_type": "markdown",
   "metadata": {},
   "source": [
    "### More on Data Visualization\n",
    "\n",
    "Clearly, `rpg_df` is time series data - and in which the most important feature would be `rpg`. So we want to visulize it using line chart. `Matplotlib` has a useful method `plot()` for that purpose. We are going to use that for visualizing `rpg`.\n",
    "\n",
    "First let's import `matplotlib`."
   ]
  },
  {
   "cell_type": "code",
   "execution_count": 111,
   "metadata": {
    "collapsed": true
   },
   "outputs": [],
   "source": [
    "import matplotlib.pyplot as plt\n",
    "%matplotlib inline\n",
    "plt.style.use('ggplot')\n",
    "# following statement set a large canvas for the visualization\n",
    "plt.rcParams[\"figure.figsize\"] = (20,10)"
   ]
  },
  {
   "cell_type": "code",
   "execution_count": 112,
   "metadata": {
    "collapsed": true
   },
   "outputs": [
    {
     "data": {
      "text/plain": [
       "Text(0.5, 0, 'Years')"
      ]
     },
     "execution_count": 112,
     "metadata": {},
     "output_type": "execute_result"
    },
    {
     "data": {
      "image/png": "[encoded data removed]",
      "text/plain": [
       "<Figure size 1440x720 with 1 Axes>"
      ]
     },
     "metadata": {},
     "output_type": "display_data"
    }
   ],
   "source": [
    "#### Complete the code below\n",
    "#### use `plot()` method on `rpg_df`, and set y-axis as `rpg`.\n",
    "#### the x-axis in this plot will be years, and you should notice that \n",
    "#### 'yearID' is the index of `rpg_df`\n",
    "#### Instead of creating another column of `yearID` (which you can do),\n",
    "#### you can simply tell `plot()` to use the index of the dataframe/series by\n",
    "#### set the `use_index` parameter to `True`\n",
    "\n",
    "\n",
    "#### We want to set the title of the visualization as `MLB Yearly Runs Per Game`\n",
    "RPGplot=rpg_df.plot(y='RPG',use_index='True',title='MLB Yearly Runs Per Game')\n",
    "\n",
    "#### Set the y-axis as `Runs per Game` use `.xlabel()`\n",
    "RPGplot.set_ylabel(\"Runs per Game\")\n",
    "\n",
    "#### The x-axis is year - so we set it as `Years`\n",
    "RPGplot.set_xlabel(\"Years\")\n",
    "\n",
    "#### show the plot\n"
   ]
  },
  {
   "cell_type": "markdown",
   "metadata": {},
   "source": [
    "There is an alternative way of doing what we just did , which is shown as following."
   ]
  },
  {
   "cell_type": "code",
   "execution_count": 113,
   "metadata": {
    "collapsed": true
   },
   "outputs": [
    {
     "name": "stdout",
     "output_type": "stream",
     "text": [
      "Runs_per_year {1961: 12942, 1962: 14461, 1963: 12780, 1964: 13124, 1965: 12946, 1966: 12900, 1967: 12210, 1968: 11109, 1969: 15850, 1970: 16880, 1971: 15073, 1972: 13706, 1973: 16376, 1974: 16046, 1975: 16295, 1976: 15492, 1977: 18803, 1978: 17251, 1979: 18713, 1980: 18053, 1982: 18110, 1983: 18170, 1984: 17921, 1985: 18216, 1986: 18545, 1987: 19883, 1988: 17380, 1989: 17405, 1990: 17919, 1991: 18127, 1992: 17341, 1993: 20864, 1996: 22831, 1997: 21604, 1998: 23297, 1999: 24691, 2000: 24971, 2001: 23199, 2002: 22408, 2003: 22978, 2004: 23376, 2005: 22325, 2006: 23599, 2007: 23322, 2008: 22585, 2009: 22419, 2010: 21308, 2011: 20808, 2012: 21017, 2013: 20255, 2014: 19761, 2015: 20647, 2016: 21744, 1904: 9307, 1905: 9640, 1906: 8322, 1907: 8186, 1908: 8423, 1909: 8805, 1910: 9580, 1911: 11164, 1912: 11154, 1913: 9964, 1914: 9408, 1915: 9444, 1916: 8889, 1917: 8948, 1920: 10762, 1921: 11935, 1922: 12059, 1923: 11874, 1924: 11722, 1925: 12596, 1926: 11443, 1927: 11745, 1928: 11645, 1929: 12747, 1930: 13695, 1931: 11892, 1932: 12116, 1933: 10288, 1934: 11325, 1935: 10498, 1936: 12846, 1937: 12070, 1938: 11260, 1939: 11876, 1940: 11568, 1941: 11168, 1942: 9457, 1943: 9694, 1944: 10353, 1945: 9729, 1946: 9953, 1947: 10827, 1948: 11328, 1949: 11426, 1950: 12013, 1951: 11268, 1952: 10349, 1953: 11426, 1954: 10827, 1955: 11069, 1956: 11031, 1957: 10636, 1958: 10578, 1959: 10853, 1960: 10664}\n",
      " Games_per_year {1961: 2860, 1962: 3242, 1963: 3238, 1964: 3252, 1965: 3246, 1966: 3230, 1967: 3240, 1968: 3250, 1969: 3892, 1970: 3888, 1971: 3876, 1972: 3718, 1973: 3886, 1974: 3890, 1975: 3868, 1976: 3878, 1977: 4206, 1978: 4204, 1979: 4198, 1980: 4210, 1982: 4214, 1983: 4218, 1984: 4210, 1985: 4206, 1986: 4206, 1987: 4210, 1988: 4200, 1989: 4212, 1990: 4210, 1991: 4208, 1992: 4212, 1993: 4538, 1996: 4534, 1997: 4532, 1998: 4864, 1999: 4856, 2000: 4858, 2001: 4858, 2002: 4852, 2003: 4860, 2004: 4856, 2005: 4862, 2006: 4858, 2007: 4862, 2008: 4856, 2009: 4860, 2010: 4860, 2011: 4858, 2012: 4860, 2013: 4862, 2014: 4860, 2015: 4858, 2016: 4856, 1904: 2498, 1905: 2474, 1906: 2307, 1907: 2317, 1908: 2488, 1909: 2482, 1910: 2498, 1911: 2474, 1912: 2464, 1913: 2468, 1914: 2512, 1915: 2490, 1916: 2494, 1917: 2494, 1920: 2468, 1921: 2458, 1922: 2476, 1923: 2466, 1924: 2462, 1925: 2456, 1926: 2468, 1927: 2472, 1928: 2462, 1929: 2458, 1930: 2468, 1931: 2472, 1932: 2466, 1933: 2303, 1934: 2297, 1935: 2158, 1936: 2476, 1937: 2478, 1938: 2297, 1939: 2462, 1940: 2472, 1941: 2488, 1942: 2300, 1943: 2476, 1944: 2484, 1945: 2313, 1946: 2484, 1947: 2486, 1948: 2474, 1949: 2480, 1950: 2476, 1951: 2478, 1952: 2478, 1953: 2480, 1954: 2474, 1955: 2468, 1956: 2478, 1957: 2470, 1958: 2470, 1959: 2476, 1960: 2472}\n"
     ]
    }
   ],
   "source": [
    "# Creating the runs per year and games per year \n",
    "\n",
    "## Use Goupby and sum the count yearly\n",
    "df.groupby(\"yearID\").sum()\n",
    "\n",
    "runs_per_year = {}\n",
    "games_per_year = {}\n",
    "\n",
    "for i, row in df.iterrows():\n",
    "    year=row['yearID']\n",
    "    runs=row['R']\n",
    "    games=row['G']\n",
    "    if year in runs_per_year:\n",
    "        runs_per_year[year]=runs_per_year[year]+ runs\n",
    "        games_per_year[year]=games_per_year[year]+ games\n",
    "    else:\n",
    "        runs_per_year[year]=runs\n",
    "        games_per_year[year]=games\n",
    "        \n",
    "## ADD notes to the print statement         \n",
    "print('Runs_per_year', runs_per_year)\n",
    "print(' Games_per_year', games_per_year)"
   ]
  },
  {
   "cell_type": "markdown",
   "metadata": {},
   "source": [
    "With these two dictionaries created, we can do the calculation using them."
   ]
  },
  {
   "cell_type": "code",
   "execution_count": 114,
   "metadata": {
    "collapsed": true
   },
   "outputs": [
    {
     "name": "stdout",
     "output_type": "stream",
     "text": [
      "{1961: 4.525174825174825, 1962: 4.460518198642813, 1963: 3.9468807906114884, 1964: 4.035670356703567, 1965: 3.9882932840418976, 1966: 3.9938080495356036, 1967: 3.7685185185185186, 1968: 3.4181538461538463, 1969: 4.07245632065776, 1970: 4.341563786008231, 1971: 3.8888028895768834, 1972: 3.6863905325443787, 1973: 4.214101904271745, 1974: 4.124935732647815, 1975: 4.21277145811789, 1976: 3.99484270242393, 1977: 4.470518307180218, 1978: 4.103472882968601, 1979: 4.457598856598381, 1980: 4.2881235154394295, 1982: 4.297579496915045, 1983: 4.307728781412992, 1984: 4.256769596199525, 1985: 4.330955777460771, 1986: 4.409177365668093, 1987: 4.722802850356294, 1988: 4.1380952380952385, 1989: 4.132241215574549, 1990: 4.256294536817102, 1991: 4.307747148288973, 1992: 4.1170465337132, 1993: 4.597620096959012, 1996: 5.0355094838994265, 1997: 4.766990291262136, 1998: 4.789679276315789, 1999: 5.0846375617792425, 2000: 5.140181144503911, 2001: 4.7754219843557015, 2002: 4.6183017312448476, 2003: 4.72798353909465, 2004: 4.813838550247117, 2005: 4.591731797614151, 2006: 4.857760395224372, 2007: 4.7967914438502675, 2008: 4.650947281713345, 2009: 4.612962962962963, 2010: 4.3843621399176955, 2011: 4.283244133388226, 2012: 4.324485596707819, 2013: 4.1659810777457835, 2014: 4.0660493827160495, 2015: 4.250102923013586, 2016: 4.477759472817134, 1904: 3.7257806244995995, 1905: 3.896523848019402, 1906: 3.6072821846553964, 1907: 3.5330168321104876, 1908: 3.385450160771704, 1909: 3.5475423045930703, 1910: 3.8350680544435547, 1911: 4.512530315278901, 1912: 4.526785714285714, 1913: 4.037277147487845, 1914: 3.745222929936306, 1915: 3.792771084337349, 1916: 3.5641539695268647, 1917: 3.587810745789896, 1920: 4.360615883306321, 1921: 4.855573637103336, 1922: 4.870355411954765, 1923: 4.815085158150851, 1924: 4.761169780666125, 1925: 5.128664495114006, 1926: 4.636547811993517, 1927: 4.75121359223301, 1928: 4.729894394800975, 1929: 5.185923515052888, 1930: 5.5490275526742305, 1931: 4.810679611650485, 1932: 4.913219789132198, 1933: 4.467216673903604, 1934: 4.9303439268611235, 1935: 4.86468952734013, 1936: 5.188206785137318, 1937: 4.870863599677159, 1938: 4.902046147148455, 1939: 4.823720552396425, 1940: 4.679611650485437, 1941: 4.488745980707395, 1942: 4.111739130434783, 1943: 3.9151857835218093, 1944: 4.167874396135265, 1945: 4.206225680933852, 1946: 4.006843800322061, 1947: 4.3551890587288815, 1948: 4.5788197251414715, 1949: 4.607258064516129, 1950: 4.851777059773829, 1951: 4.547215496368039, 1952: 4.17635189669088, 1953: 4.607258064516129, 1954: 4.376313662085691, 1955: 4.485008103727715, 1956: 4.451573849878935, 1957: 4.306072874493927, 1958: 4.282591093117409, 1959: 4.383279483037157, 1960: 4.313915857605178}\n"
     ]
    }
   ],
   "source": [
    "# mlb runs per game (per year) dictionary \n",
    "runs_per_game = {}\n",
    "for k,v in games_per_year.items():\n",
    "    year = k \n",
    "    games = v\n",
    "    runs = runs_per_year[year]\n",
    "    runs_per_game[year]= runs/games\n",
    "    \n",
    "print(runs_per_game)"
   ]
  },
  {
   "cell_type": "markdown",
   "metadata": {},
   "source": [
    "__Note__: dictionaries would be a good alternative of `pandas` functions.\n",
    "\n",
    "Now let's visualize `runs_per_game` again using the dictionaries."
   ]
  },
  {
   "cell_type": "code",
   "execution_count": 115,
   "metadata": {
    "collapsed": true
   },
   "outputs": [
    {
     "data": {
      "image/png": "[encoded data removed]",
      "text/plain": [
       "<Figure size 1440x720 with 1 Axes>"
      ]
     },
     "metadata": {},
     "output_type": "display_data"
    }
   ],
   "source": [
    "# Creating lists from mlb_runs_per_game\n",
    "## List of tuples (x, y) \n",
    "lists = sorted(runs_per_game.items())\n",
    "x,y = zip(*lists)\n",
    "\n",
    "plt.plot(x,y)\n",
    "plt.title(\"MLB Yearly Runs Per Game\")\n",
    "plt.xlabel(\"Year\")\n",
    "plt.ylabel(\"Runs per Game\")\n",
    "plt.legend('Runs_per_Game')\n",
    "plt.show()"
   ]
  },
  {
   "cell_type": "markdown",
   "metadata": {},
   "source": [
    "### More on Variable Binning\n",
    "\n",
    "Remember in part 1 we binned wins (`df['W']`) to a categorical variable - that was for making the analysis a __classification__ problem. Sometimes we also using binning for __dimensionality reduction__ purposes. For instance, the feature year (`df['yearID']`) has more than 100 distinct values, so its dimensionality will be 100+. A lot of machine learning algorithms do not like high-dimensional features, so it is a common practice to __bin high-dimensional features__.\n",
    "\n",
    "__Rule of thumb__: if a categorical feature has more than __5__ categories, you should consider bin it.\n",
    "\n",
    "In the block below, you are going to create your own function (`assign_label`) and apply it to your data (`df`).\n",
    "\n",
    "When a categorical variable is low-dimensional, we shoud create dummy variables for that. `pandas` provides a function called `get_dummies()` for that."
   ]
  },
  {
   "cell_type": "code",
   "execution_count": 116,
   "metadata": {
    "collapsed": true
   },
   "outputs": [
    {
     "data": {
      "text/plain": [
       "Index(['yearID', 'teamID', 'G', 'W', 'R', 'AB', 'H', '2B', '3B', 'HR', 'BB',\n",
       "       'SO', 'SB', 'RA', 'ER', 'ERA', 'CG', 'SHO', 'SV', 'IPouts', 'HA', 'HRA',\n",
       "       'BBA', 'SOA', 'E', 'DP', 'FP', 'Win_bins', 'year_label'],\n",
       "      dtype='object')"
      ]
     },
     "execution_count": 116,
     "metadata": {},
     "output_type": "execute_result"
    }
   ],
   "source": [
    "# define the `assign_label` function\n",
    "\n",
    "def assign_label(year):\n",
    "    if year < 1920:\n",
    "        return 1\n",
    "    elif year >= 1920 and year <= 1941:\n",
    "        return 2\n",
    "    elif year >= 1942 and year <= 1945:\n",
    "        return 3\n",
    "    elif year >= 1946 and year <= 1962:\n",
    "        return 4\n",
    "    elif year >= 1963 and year <= 1976:\n",
    "        return 5\n",
    "    elif year >= 1977 and year <= 1992:\n",
    "        return 6\n",
    "    elif year >= 1993 and year <= 2009:\n",
    "        return 7\n",
    "    elif year >= 2010:\n",
    "        return 8\n",
    "\n",
    "#### complete the code below\n",
    "#### Add `year_label` column to `df`\n",
    "#### by applying `assign_label` to the `df['yearID'] column\n",
    "df['year_label']=df['yearID'].apply(assign_label)\n",
    "\n",
    "\n",
    "#### create dummy variables for `year_label`\n",
    "#### call `pd.get_dummies` on `df['year_label']`\n",
    "#### set the `prefix` parameter of `get_dummies` to `'era'`\n",
    "#### store the results in a dataframe `dummy_df`\n",
    "dummy_df=pd.get_dummies(df['year_label'],prefix='decade')\n",
    "\n",
    "#### Concatenate `df` and `dummy_df` using pd.concat()\n",
    "pd.concat([df,dummy_df],sort=True)\n",
    "\n",
    "#### Check whether the dummy variables are successfully created\n",
    "df.columns"
   ]
  },
  {
   "cell_type": "markdown",
   "metadata": {},
   "source": [
    "We can add  *Runs per Game* data from the `runs_per_game` dictionary to `df`."
   ]
  },
  {
   "cell_type": "code",
   "execution_count": 117,
   "metadata": {
    "collapsed": true
   },
   "outputs": [
    {
     "data": {
      "text/plain": [
       "0    4.525175\n",
       "1    4.460518\n",
       "2    3.946881\n",
       "3    4.035670\n",
       "4    3.988293\n",
       "Name: rpg, dtype: float64"
      ]
     },
     "execution_count": 117,
     "metadata": {},
     "output_type": "execute_result"
    }
   ],
   "source": [
    "# Create column for  runs per game from the runs_per_game dictionary\n",
    "def assign_rpg(year):\n",
    "    return runs_per_game[year]\n",
    "\n",
    "df['rpg'] = df['yearID'].apply(assign_rpg)\n",
    "df['rpg'].head()"
   ]
  },
  {
   "cell_type": "markdown",
   "metadata": {},
   "source": [
    "An alternative way of binning the `yearID` feature is to bin it by **decade**, then create dummy variables based on **dacades**. This can be done using following code."
   ]
  },
  {
   "cell_type": "code",
   "execution_count": 118,
   "metadata": {
    "collapsed": true
   },
   "outputs": [
    {
     "data": {
      "text/html": [
       "<div>\n",
       "<style scoped>\n",
       "    .dataframe tbody tr th:only-of-type {\n",
       "        vertical-align: middle;\n",
       "    }\n",
       "\n",
       "    .dataframe tbody tr th {\n",
       "        vertical-align: top;\n",
       "    }\n",
       "\n",
       "    .dataframe thead th {\n",
       "        text-align: right;\n",
       "    }\n",
       "</style>\n",
       "<table border=\"1\" class=\"dataframe\">\n",
       "  <thead>\n",
       "    <tr style=\"text-align: right;\">\n",
       "      <th></th>\n",
       "      <th>2B</th>\n",
       "      <th>3B</th>\n",
       "      <th>AB</th>\n",
       "      <th>BB</th>\n",
       "      <th>BBA</th>\n",
       "      <th>CG</th>\n",
       "      <th>DP</th>\n",
       "      <th>E</th>\n",
       "      <th>ER</th>\n",
       "      <th>ERA</th>\n",
       "      <th>...</th>\n",
       "      <th>decade_1970</th>\n",
       "      <th>decade_1980</th>\n",
       "      <th>decade_1990</th>\n",
       "      <th>decade_2000</th>\n",
       "      <th>decade_2010</th>\n",
       "      <th>decade_label</th>\n",
       "      <th>rpg</th>\n",
       "      <th>teamID</th>\n",
       "      <th>yearID</th>\n",
       "      <th>year_label</th>\n",
       "    </tr>\n",
       "  </thead>\n",
       "  <tbody>\n",
       "    <tr>\n",
       "      <th>0</th>\n",
       "      <td>218.0</td>\n",
       "      <td>22.0</td>\n",
       "      <td>5424.0</td>\n",
       "      <td>681.0</td>\n",
       "      <td>713.0</td>\n",
       "      <td>25.0</td>\n",
       "      <td>154.0</td>\n",
       "      <td>192.0</td>\n",
       "      <td>689.0</td>\n",
       "      <td>4.31</td>\n",
       "      <td>...</td>\n",
       "      <td>NaN</td>\n",
       "      <td>NaN</td>\n",
       "      <td>NaN</td>\n",
       "      <td>NaN</td>\n",
       "      <td>NaN</td>\n",
       "      <td>1960.0</td>\n",
       "      <td>4.525175</td>\n",
       "      <td>LAA</td>\n",
       "      <td>1961.0</td>\n",
       "      <td>4.0</td>\n",
       "    </tr>\n",
       "    <tr>\n",
       "      <th>1</th>\n",
       "      <td>232.0</td>\n",
       "      <td>35.0</td>\n",
       "      <td>5499.0</td>\n",
       "      <td>602.0</td>\n",
       "      <td>616.0</td>\n",
       "      <td>23.0</td>\n",
       "      <td>153.0</td>\n",
       "      <td>175.0</td>\n",
       "      <td>603.0</td>\n",
       "      <td>3.70</td>\n",
       "      <td>...</td>\n",
       "      <td>NaN</td>\n",
       "      <td>NaN</td>\n",
       "      <td>NaN</td>\n",
       "      <td>NaN</td>\n",
       "      <td>NaN</td>\n",
       "      <td>1960.0</td>\n",
       "      <td>4.460518</td>\n",
       "      <td>LAA</td>\n",
       "      <td>1962.0</td>\n",
       "      <td>4.0</td>\n",
       "    </tr>\n",
       "    <tr>\n",
       "      <th>2</th>\n",
       "      <td>208.0</td>\n",
       "      <td>38.0</td>\n",
       "      <td>5506.0</td>\n",
       "      <td>448.0</td>\n",
       "      <td>578.0</td>\n",
       "      <td>30.0</td>\n",
       "      <td>155.0</td>\n",
       "      <td>163.0</td>\n",
       "      <td>569.0</td>\n",
       "      <td>3.52</td>\n",
       "      <td>...</td>\n",
       "      <td>NaN</td>\n",
       "      <td>NaN</td>\n",
       "      <td>NaN</td>\n",
       "      <td>NaN</td>\n",
       "      <td>NaN</td>\n",
       "      <td>1960.0</td>\n",
       "      <td>3.946881</td>\n",
       "      <td>LAA</td>\n",
       "      <td>1963.0</td>\n",
       "      <td>5.0</td>\n",
       "    </tr>\n",
       "    <tr>\n",
       "      <th>3</th>\n",
       "      <td>186.0</td>\n",
       "      <td>27.0</td>\n",
       "      <td>5362.0</td>\n",
       "      <td>472.0</td>\n",
       "      <td>530.0</td>\n",
       "      <td>30.0</td>\n",
       "      <td>168.0</td>\n",
       "      <td>138.0</td>\n",
       "      <td>469.0</td>\n",
       "      <td>2.91</td>\n",
       "      <td>...</td>\n",
       "      <td>NaN</td>\n",
       "      <td>NaN</td>\n",
       "      <td>NaN</td>\n",
       "      <td>NaN</td>\n",
       "      <td>NaN</td>\n",
       "      <td>1960.0</td>\n",
       "      <td>4.035670</td>\n",
       "      <td>LAA</td>\n",
       "      <td>1964.0</td>\n",
       "      <td>5.0</td>\n",
       "    </tr>\n",
       "    <tr>\n",
       "      <th>4</th>\n",
       "      <td>200.0</td>\n",
       "      <td>36.0</td>\n",
       "      <td>5354.0</td>\n",
       "      <td>443.0</td>\n",
       "      <td>563.0</td>\n",
       "      <td>39.0</td>\n",
       "      <td>149.0</td>\n",
       "      <td>123.0</td>\n",
       "      <td>508.0</td>\n",
       "      <td>3.17</td>\n",
       "      <td>...</td>\n",
       "      <td>NaN</td>\n",
       "      <td>NaN</td>\n",
       "      <td>NaN</td>\n",
       "      <td>NaN</td>\n",
       "      <td>NaN</td>\n",
       "      <td>1960.0</td>\n",
       "      <td>3.988293</td>\n",
       "      <td>CAL</td>\n",
       "      <td>1965.0</td>\n",
       "      <td>5.0</td>\n",
       "    </tr>\n",
       "  </tbody>\n",
       "</table>\n",
       "<p>5 rows × 42 columns</p>\n",
       "</div>"
      ],
      "text/plain": [
       "      2B    3B      AB     BB    BBA    CG     DP      E     ER   ERA  ...  \\\n",
       "0  218.0  22.0  5424.0  681.0  713.0  25.0  154.0  192.0  689.0  4.31  ...   \n",
       "1  232.0  35.0  5499.0  602.0  616.0  23.0  153.0  175.0  603.0  3.70  ...   \n",
       "2  208.0  38.0  5506.0  448.0  578.0  30.0  155.0  163.0  569.0  3.52  ...   \n",
       "3  186.0  27.0  5362.0  472.0  530.0  30.0  168.0  138.0  469.0  2.91  ...   \n",
       "4  200.0  36.0  5354.0  443.0  563.0  39.0  149.0  123.0  508.0  3.17  ...   \n",
       "\n",
       "   decade_1970  decade_1980  decade_1990  decade_2000  decade_2010  \\\n",
       "0          NaN          NaN          NaN          NaN          NaN   \n",
       "1          NaN          NaN          NaN          NaN          NaN   \n",
       "2          NaN          NaN          NaN          NaN          NaN   \n",
       "3          NaN          NaN          NaN          NaN          NaN   \n",
       "4          NaN          NaN          NaN          NaN          NaN   \n",
       "\n",
       "   decade_label       rpg  teamID  yearID  year_label  \n",
       "0        1960.0  4.525175     LAA  1961.0         4.0  \n",
       "1        1960.0  4.460518     LAA  1962.0         4.0  \n",
       "2        1960.0  3.946881     LAA  1963.0         5.0  \n",
       "3        1960.0  4.035670     LAA  1964.0         5.0  \n",
       "4        1960.0  3.988293     CAL  1965.0         5.0  \n",
       "\n",
       "[5 rows x 42 columns]"
      ]
     },
     "execution_count": 118,
     "metadata": {},
     "output_type": "execute_result"
    }
   ],
   "source": [
    "# Convert years into decade bins and creating dummy variables\n",
    "def assign_decade(year):\n",
    "    if year < 1920:\n",
    "        return 1910\n",
    "    elif year >= 1920 and year <= 1929:\n",
    "        return 1920\n",
    "    elif year >= 1930 and year <= 1939:\n",
    "        return 1930\n",
    "    elif year >= 1940 and year <= 1949:\n",
    "        return 1940\n",
    "    elif year >= 1950 and year <= 1959:\n",
    "        return 1950\n",
    "    elif year >= 1960 and year <= 1969:\n",
    "        return 1960\n",
    "    elif year >= 1970 and year <= 1979:\n",
    "        return 1970\n",
    "    elif year >= 1980 and year <= 1989:\n",
    "        return 1980\n",
    "    elif year >= 1990 and year <= 1999:\n",
    "        return 1990\n",
    "    elif year >= 2000 and year <= 2009:\n",
    "        return 2000\n",
    "    elif year >= 2010:\n",
    "        return 2010\n",
    "    \n",
    "#### complete the code below\n",
    "#### Add `decade_label` column to `df`\n",
    "#### by applying `assign_decade` function to the `df['yearID'] column\n",
    "df['decade_label']=df['yearID'].apply(assign_decade)\n",
    "\n",
    "#### create dummy variables for `year_label`\n",
    "#### call `pd.get_dummies` on `df['year_label']`\n",
    "#### set the `prefix` parameter of `get_dummies` to `'era'`\n",
    "#### store the results in a dataframe `decade_df`\n",
    "decade_df=pd.get_dummies(df['decade_label'],prefix='decade')\n",
    "\n",
    "#### Concatenate `df` and `decade_df` using pd.concat()\n",
    "df=pd.concat([df,decade_df],sort=True)\n",
    "\n",
    "#### Check if above actions are done properly\n",
    "#### by looking at the first 5 rows of `df`\n",
    "df.head(5)"
   ]
  },
  {
   "cell_type": "markdown",
   "metadata": {},
   "source": [
    "The next step in __feature engineering__ is to remove all unwanted features, in this case, we used `yearID`, `year_level`, and `decade_level` to generate new dummy variables - thus we do not need them any more."
   ]
  },
  {
   "cell_type": "code",
   "execution_count": 119,
   "metadata": {
    "collapsed": true
   },
   "outputs": [],
   "source": [
    "#### complete your code here\n",
    "\n",
    "df = df.drop('yearID',axis=1)\n",
    "df = df.drop('year_label',axis=1)\n",
    "df = df.drop('decade_label',axis=1)"
   ]
  },
  {
   "cell_type": "markdown",
   "metadata": {},
   "source": [
    "_Runs per Game_ and _Runs Allowed per Game_ (at __game__ level, not aggregated) are important features in the baseball domain. Now let us go ahead and create them."
   ]
  },
  {
   "cell_type": "code",
   "execution_count": 120,
   "metadata": {
    "collapsed": true
   },
   "outputs": [
    {
     "data": {
      "text/html": [
       "<div>\n",
       "<style scoped>\n",
       "    .dataframe tbody tr th:only-of-type {\n",
       "        vertical-align: middle;\n",
       "    }\n",
       "\n",
       "    .dataframe tbody tr th {\n",
       "        vertical-align: top;\n",
       "    }\n",
       "\n",
       "    .dataframe thead th {\n",
       "        text-align: right;\n",
       "    }\n",
       "</style>\n",
       "<table border=\"1\" class=\"dataframe\">\n",
       "  <thead>\n",
       "    <tr style=\"text-align: right;\">\n",
       "      <th></th>\n",
       "      <th>R</th>\n",
       "      <th>G</th>\n",
       "      <th>RA</th>\n",
       "      <th>rpg</th>\n",
       "      <th>RA_per_game</th>\n",
       "    </tr>\n",
       "  </thead>\n",
       "  <tbody>\n",
       "    <tr>\n",
       "      <th>0</th>\n",
       "      <td>744.0</td>\n",
       "      <td>162.0</td>\n",
       "      <td>784.0</td>\n",
       "      <td>4.525175</td>\n",
       "      <td>4.839506</td>\n",
       "    </tr>\n",
       "    <tr>\n",
       "      <th>1</th>\n",
       "      <td>718.0</td>\n",
       "      <td>162.0</td>\n",
       "      <td>706.0</td>\n",
       "      <td>4.460518</td>\n",
       "      <td>4.358025</td>\n",
       "    </tr>\n",
       "    <tr>\n",
       "      <th>2</th>\n",
       "      <td>597.0</td>\n",
       "      <td>161.0</td>\n",
       "      <td>660.0</td>\n",
       "      <td>3.946881</td>\n",
       "      <td>4.099379</td>\n",
       "    </tr>\n",
       "    <tr>\n",
       "      <th>3</th>\n",
       "      <td>544.0</td>\n",
       "      <td>162.0</td>\n",
       "      <td>551.0</td>\n",
       "      <td>4.035670</td>\n",
       "      <td>3.401235</td>\n",
       "    </tr>\n",
       "    <tr>\n",
       "      <th>4</th>\n",
       "      <td>527.0</td>\n",
       "      <td>162.0</td>\n",
       "      <td>569.0</td>\n",
       "      <td>3.988293</td>\n",
       "      <td>3.512346</td>\n",
       "    </tr>\n",
       "    <tr>\n",
       "      <th>5</th>\n",
       "      <td>604.0</td>\n",
       "      <td>162.0</td>\n",
       "      <td>643.0</td>\n",
       "      <td>3.993808</td>\n",
       "      <td>3.969136</td>\n",
       "    </tr>\n",
       "    <tr>\n",
       "      <th>6</th>\n",
       "      <td>567.0</td>\n",
       "      <td>161.0</td>\n",
       "      <td>587.0</td>\n",
       "      <td>3.768519</td>\n",
       "      <td>3.645963</td>\n",
       "    </tr>\n",
       "    <tr>\n",
       "      <th>7</th>\n",
       "      <td>498.0</td>\n",
       "      <td>162.0</td>\n",
       "      <td>615.0</td>\n",
       "      <td>3.418154</td>\n",
       "      <td>3.796296</td>\n",
       "    </tr>\n",
       "    <tr>\n",
       "      <th>8</th>\n",
       "      <td>528.0</td>\n",
       "      <td>163.0</td>\n",
       "      <td>652.0</td>\n",
       "      <td>4.072456</td>\n",
       "      <td>4.000000</td>\n",
       "    </tr>\n",
       "    <tr>\n",
       "      <th>9</th>\n",
       "      <td>631.0</td>\n",
       "      <td>162.0</td>\n",
       "      <td>630.0</td>\n",
       "      <td>4.341564</td>\n",
       "      <td>3.888889</td>\n",
       "    </tr>\n",
       "  </tbody>\n",
       "</table>\n",
       "</div>"
      ],
      "text/plain": [
       "       R      G     RA       rpg  RA_per_game\n",
       "0  744.0  162.0  784.0  4.525175     4.839506\n",
       "1  718.0  162.0  706.0  4.460518     4.358025\n",
       "2  597.0  161.0  660.0  3.946881     4.099379\n",
       "3  544.0  162.0  551.0  4.035670     3.401235\n",
       "4  527.0  162.0  569.0  3.988293     3.512346\n",
       "5  604.0  162.0  643.0  3.993808     3.969136\n",
       "6  567.0  161.0  587.0  3.768519     3.645963\n",
       "7  498.0  162.0  615.0  3.418154     3.796296\n",
       "8  528.0  163.0  652.0  4.072456     4.000000\n",
       "9  631.0  162.0  630.0  4.341564     3.888889"
      ]
     },
     "execution_count": 120,
     "metadata": {},
     "output_type": "execute_result"
    }
   ],
   "source": [
    "#### Complete your code below\n",
    "#### runs per game = # of runs/# of games\n",
    "#### # of runs is in `df['R']`\n",
    "#### # of games is in `df['G']`\n",
    "df['rpg']\n",
    "\n",
    "#### runs allowed per game = # of runs allowed/# of games\n",
    "#### # of runs allowed is in `df['RA']\n",
    "df['RA_per_game']=df['RA']/df['G']\n",
    "\n",
    "#### double check whether our calculations are successful or not\n",
    "#### by looking at the first 10 columns of `df`\n",
    "df[['R','G','RA','rpg','RA_per_game']][:10]"
   ]
  },
  {
   "cell_type": "code",
   "execution_count": 121,
   "metadata": {
    "collapsed": true
   },
   "outputs": [
    {
     "data": {
      "text/plain": [
       "count    2265.000000\n",
       "mean        4.397847\n",
       "std         0.651584\n",
       "min         2.458065\n",
       "25%         3.956790\n",
       "50%         4.358025\n",
       "75%         4.797546\n",
       "max         7.685897\n",
       "Name: RA_per_game, dtype: float64"
      ]
     },
     "execution_count": 121,
     "metadata": {},
     "output_type": "execute_result"
    }
   ],
   "source": [
    "df.RA_per_game.describe()"
   ]
  },
  {
   "cell_type": "markdown",
   "metadata": {},
   "source": [
    "### Correlation Analysis\n",
    "\n",
    "Correlation analysis is an important topic in data analysis, which is also a basis of feature engineering. You want to select features that are __highly__ correlated with your target variable. \n",
    "\n",
    "__Note__: in the meanwhile, if you are using linear models, such as linear regression, decision tree, or naive Bayes, you do not want more than __one__ features are __highly__ correlated.\n",
    "\n",
    "Correlation analysis can be done in several ways: one of the most direct is using the `corr()` method provided in `pandas`. In this part, we are going to calulate the correlation between a particular feature and the target using `numpy`, and then visualize the correlation trends.\n",
    "\n",
    "In above analysis, we believe that **Runs per Game** and **Runs Allowed per Game** are two important features in predicting our target (`win`). We are going to visualize the correlation between each of them and `win` to prove that."
   ]
  },
  {
   "cell_type": "code",
   "execution_count": 122,
   "metadata": {
    "collapsed": true
   },
   "outputs": [
    {
     "ename": "LinAlgError",
     "evalue": "SVD did not converge in Linear Least Squares",
     "output_type": "error",
     "traceback": [
      "\u001b[0;31m---------------------------------------------------------------------------\u001b[0m",
      "\u001b[0;31mLinAlgError\u001b[0m                               Traceback (most recent call last)",
      "\u001b[0;32m<ipython-input-122-1803a5a76358>\u001b[0m in \u001b[0;36m<module>\u001b[0;34m\u001b[0m\n\u001b[1;32m     27\u001b[0m \u001b[0;31m# Following snippet add trend line of correlation to `ax1`\u001b[0m\u001b[0;34m\u001b[0m\u001b[0;34m\u001b[0m\u001b[0;34m\u001b[0m\u001b[0m\n\u001b[1;32m     28\u001b[0m \u001b[0;34m\u001b[0m\u001b[0m\n\u001b[0;32m---> 29\u001b[0;31m \u001b[0mz\u001b[0m \u001b[0;34m=\u001b[0m \u001b[0mnp\u001b[0m\u001b[0;34m.\u001b[0m\u001b[0mpolyfit\u001b[0m\u001b[0;34m(\u001b[0m\u001b[0mx1\u001b[0m\u001b[0;34m,\u001b[0m \u001b[0my\u001b[0m\u001b[0;34m,\u001b[0m \u001b[0;36m1\u001b[0m\u001b[0;34m)\u001b[0m\u001b[0;34m\u001b[0m\u001b[0;34m\u001b[0m\u001b[0m\n\u001b[0m\u001b[1;32m     30\u001b[0m \u001b[0mp\u001b[0m \u001b[0;34m=\u001b[0m \u001b[0mnp\u001b[0m\u001b[0;34m.\u001b[0m\u001b[0mpoly1d\u001b[0m\u001b[0;34m(\u001b[0m\u001b[0mz\u001b[0m\u001b[0;34m)\u001b[0m\u001b[0;34m\u001b[0m\u001b[0;34m\u001b[0m\u001b[0m\n\u001b[1;32m     31\u001b[0m \u001b[0max1\u001b[0m\u001b[0;34m.\u001b[0m\u001b[0mplot\u001b[0m\u001b[0;34m(\u001b[0m\u001b[0mx1\u001b[0m\u001b[0;34m,\u001b[0m\u001b[0mp\u001b[0m\u001b[0;34m(\u001b[0m\u001b[0mx1\u001b[0m\u001b[0;34m)\u001b[0m\u001b[0;34m,\u001b[0m\u001b[0;34m\"r--\"\u001b[0m\u001b[0;34m)\u001b[0m\u001b[0;34m\u001b[0m\u001b[0;34m\u001b[0m\u001b[0m\n",
      "\u001b[0;32m~/anaconda3/lib/python3.6/site-packages/numpy/lib/polynomial.py\u001b[0m in \u001b[0;36mpolyfit\u001b[0;34m(x, y, deg, rcond, full, w, cov)\u001b[0m\n\u001b[1;32m    626\u001b[0m     \u001b[0mscale\u001b[0m \u001b[0;34m=\u001b[0m \u001b[0mNX\u001b[0m\u001b[0;34m.\u001b[0m\u001b[0msqrt\u001b[0m\u001b[0;34m(\u001b[0m\u001b[0;34m(\u001b[0m\u001b[0mlhs\u001b[0m\u001b[0;34m*\u001b[0m\u001b[0mlhs\u001b[0m\u001b[0;34m)\u001b[0m\u001b[0;34m.\u001b[0m\u001b[0msum\u001b[0m\u001b[0;34m(\u001b[0m\u001b[0maxis\u001b[0m\u001b[0;34m=\u001b[0m\u001b[0;36m0\u001b[0m\u001b[0;34m)\u001b[0m\u001b[0;34m)\u001b[0m\u001b[0;34m\u001b[0m\u001b[0;34m\u001b[0m\u001b[0m\n\u001b[1;32m    627\u001b[0m     \u001b[0mlhs\u001b[0m \u001b[0;34m/=\u001b[0m \u001b[0mscale\u001b[0m\u001b[0;34m\u001b[0m\u001b[0;34m\u001b[0m\u001b[0m\n\u001b[0;32m--> 628\u001b[0;31m     \u001b[0mc\u001b[0m\u001b[0;34m,\u001b[0m \u001b[0mresids\u001b[0m\u001b[0;34m,\u001b[0m \u001b[0mrank\u001b[0m\u001b[0;34m,\u001b[0m \u001b[0ms\u001b[0m \u001b[0;34m=\u001b[0m \u001b[0mlstsq\u001b[0m\u001b[0;34m(\u001b[0m\u001b[0mlhs\u001b[0m\u001b[0;34m,\u001b[0m \u001b[0mrhs\u001b[0m\u001b[0;34m,\u001b[0m \u001b[0mrcond\u001b[0m\u001b[0;34m)\u001b[0m\u001b[0;34m\u001b[0m\u001b[0;34m\u001b[0m\u001b[0m\n\u001b[0m\u001b[1;32m    629\u001b[0m     \u001b[0mc\u001b[0m \u001b[0;34m=\u001b[0m \u001b[0;34m(\u001b[0m\u001b[0mc\u001b[0m\u001b[0;34m.\u001b[0m\u001b[0mT\u001b[0m\u001b[0;34m/\u001b[0m\u001b[0mscale\u001b[0m\u001b[0;34m)\u001b[0m\u001b[0;34m.\u001b[0m\u001b[0mT\u001b[0m  \u001b[0;31m# broadcast scale coefficients\u001b[0m\u001b[0;34m\u001b[0m\u001b[0;34m\u001b[0m\u001b[0m\n\u001b[1;32m    630\u001b[0m \u001b[0;34m\u001b[0m\u001b[0m\n",
      "\u001b[0;32m~/anaconda3/lib/python3.6/site-packages/numpy/linalg/linalg.py\u001b[0m in \u001b[0;36mlstsq\u001b[0;34m(a, b, rcond)\u001b[0m\n\u001b[1;32m   2234\u001b[0m         \u001b[0;31m# lapack can't handle n_rhs = 0 - so allocate the array one larger in that axis\u001b[0m\u001b[0;34m\u001b[0m\u001b[0;34m\u001b[0m\u001b[0;34m\u001b[0m\u001b[0m\n\u001b[1;32m   2235\u001b[0m         \u001b[0mb\u001b[0m \u001b[0;34m=\u001b[0m \u001b[0mzeros\u001b[0m\u001b[0;34m(\u001b[0m\u001b[0mb\u001b[0m\u001b[0;34m.\u001b[0m\u001b[0mshape\u001b[0m\u001b[0;34m[\u001b[0m\u001b[0;34m:\u001b[0m\u001b[0;34m-\u001b[0m\u001b[0;36m2\u001b[0m\u001b[0;34m]\u001b[0m \u001b[0;34m+\u001b[0m \u001b[0;34m(\u001b[0m\u001b[0mm\u001b[0m\u001b[0;34m,\u001b[0m \u001b[0mn_rhs\u001b[0m \u001b[0;34m+\u001b[0m \u001b[0;36m1\u001b[0m\u001b[0;34m)\u001b[0m\u001b[0;34m,\u001b[0m \u001b[0mdtype\u001b[0m\u001b[0;34m=\u001b[0m\u001b[0mb\u001b[0m\u001b[0;34m.\u001b[0m\u001b[0mdtype\u001b[0m\u001b[0;34m)\u001b[0m\u001b[0;34m\u001b[0m\u001b[0;34m\u001b[0m\u001b[0m\n\u001b[0;32m-> 2236\u001b[0;31m     \u001b[0mx\u001b[0m\u001b[0;34m,\u001b[0m \u001b[0mresids\u001b[0m\u001b[0;34m,\u001b[0m \u001b[0mrank\u001b[0m\u001b[0;34m,\u001b[0m \u001b[0ms\u001b[0m \u001b[0;34m=\u001b[0m \u001b[0mgufunc\u001b[0m\u001b[0;34m(\u001b[0m\u001b[0ma\u001b[0m\u001b[0;34m,\u001b[0m \u001b[0mb\u001b[0m\u001b[0;34m,\u001b[0m \u001b[0mrcond\u001b[0m\u001b[0;34m,\u001b[0m \u001b[0msignature\u001b[0m\u001b[0;34m=\u001b[0m\u001b[0msignature\u001b[0m\u001b[0;34m,\u001b[0m \u001b[0mextobj\u001b[0m\u001b[0;34m=\u001b[0m\u001b[0mextobj\u001b[0m\u001b[0;34m)\u001b[0m\u001b[0;34m\u001b[0m\u001b[0;34m\u001b[0m\u001b[0m\n\u001b[0m\u001b[1;32m   2237\u001b[0m     \u001b[0;32mif\u001b[0m \u001b[0mm\u001b[0m \u001b[0;34m==\u001b[0m \u001b[0;36m0\u001b[0m\u001b[0;34m:\u001b[0m\u001b[0;34m\u001b[0m\u001b[0;34m\u001b[0m\u001b[0m\n\u001b[1;32m   2238\u001b[0m         \u001b[0mx\u001b[0m\u001b[0;34m[\u001b[0m\u001b[0;34m...\u001b[0m\u001b[0;34m]\u001b[0m \u001b[0;34m=\u001b[0m \u001b[0;36m0\u001b[0m\u001b[0;34m\u001b[0m\u001b[0;34m\u001b[0m\u001b[0m\n",
      "\u001b[0;32m~/anaconda3/lib/python3.6/site-packages/numpy/linalg/linalg.py\u001b[0m in \u001b[0;36m_raise_linalgerror_lstsq\u001b[0;34m(err, flag)\u001b[0m\n\u001b[1;32m    107\u001b[0m \u001b[0;34m\u001b[0m\u001b[0m\n\u001b[1;32m    108\u001b[0m \u001b[0;32mdef\u001b[0m \u001b[0m_raise_linalgerror_lstsq\u001b[0m\u001b[0;34m(\u001b[0m\u001b[0merr\u001b[0m\u001b[0;34m,\u001b[0m \u001b[0mflag\u001b[0m\u001b[0;34m)\u001b[0m\u001b[0;34m:\u001b[0m\u001b[0;34m\u001b[0m\u001b[0;34m\u001b[0m\u001b[0m\n\u001b[0;32m--> 109\u001b[0;31m     \u001b[0;32mraise\u001b[0m \u001b[0mLinAlgError\u001b[0m\u001b[0;34m(\u001b[0m\u001b[0;34m\"SVD did not converge in Linear Least Squares\"\u001b[0m\u001b[0;34m)\u001b[0m\u001b[0;34m\u001b[0m\u001b[0;34m\u001b[0m\u001b[0m\n\u001b[0m\u001b[1;32m    110\u001b[0m \u001b[0;34m\u001b[0m\u001b[0m\n\u001b[1;32m    111\u001b[0m \u001b[0;32mdef\u001b[0m \u001b[0mget_linalg_error_extobj\u001b[0m\u001b[0;34m(\u001b[0m\u001b[0mcallback\u001b[0m\u001b[0;34m)\u001b[0m\u001b[0;34m:\u001b[0m\u001b[0;34m\u001b[0m\u001b[0;34m\u001b[0m\u001b[0m\n",
      "\u001b[0;31mLinAlgError\u001b[0m: SVD did not converge in Linear Least Squares"
     ]
    },
    {
     "data": {
      "image/png": "[encoded data removed]",
      "text/plain": [
       "<Figure size 864x432 with 2 Axes>"
      ]
     },
     "metadata": {},
     "output_type": "display_data"
    }
   ],
   "source": [
    "# create a variable called `fig` which contains the size of a figure\n",
    "fig = plt.figure(figsize=(12, 6))\n",
    "\n",
    "# create two sub-figures, one for `runs per game`, one for `runs allowed per game`\n",
    "ax1 = fig.add_subplot(1,2,1)\n",
    "ax2 = fig.add_subplot(1,2,2)\n",
    "\n",
    "# define the axis we use in the figure\n",
    "x1 = df['rpg']\n",
    "x2 = df['RA_per_game']\n",
    "y = df['W']\n",
    "\n",
    "#### Complete your code here\n",
    "#### We are using scatterplot to visualize the correlation trend - which is the common practice\n",
    "#### if you don't remember how to create a scatterplot, please refer to part 1\n",
    "#### in the 1st sub-figure (`ax1`), we define the x-axis as 'Runs per Game'\n",
    "#### and y-axis as 'Wins', and color as 'blue'\n",
    "ax1.set_xlabel('Runs per Game')\n",
    "ax1.set_ylabel('Wins')\n",
    "\n",
    "#### You will also add title as 'Runs per Game vs. Wins'\n",
    "ax1.set_title('Runs per Game vs. Wins')\n",
    "#### and then add proper axis names to it\n",
    "\n",
    "\n",
    "# To better visualize the correlation trend, we are going to add trend line to it\n",
    "# Following snippet add trend line of correlation to `ax1`\n",
    "\n",
    "z = np.polyfit(x1, y, 1)\n",
    "p = np.poly1d(z)\n",
    "ax1.plot(x1,p(x1),\"r--\")\n",
    "\n",
    "#### complete your code here\n",
    "#### similarly, we are going to visualize the correlation between `runs allowed per game`\n",
    "#### and `Wins` in `ax2`, we set the color to 'red'\n",
    "\n",
    "#### You will also add title as 'Runs Allowed per Game vs. Wins'\n",
    "ax2.set_title('Runs Allowed per Game vs. Wins')\n",
    "#### you will then add x-axis label to `ax2` - note that you do not need \n",
    "#### to add y-axis label since it is shared with `ax1`\n",
    "ax2.set_xlabel('Runs allowed per game')\n",
    "\n",
    "# We will use the similar code as above to add trend line in `ax2`\n",
    "z1 = np.polyfit(x2, y, 1)\n",
    "p1 = np.poly1d(z1)\n",
    "ax2.plot(x2,p1(x2),\"g--\")\n",
    "\n",
    "#### show the plot\n",
    "plt.show()"
   ]
  },
  {
   "cell_type": "markdown",
   "metadata": {},
   "source": [
    "Can you observe the different correlation trends in above visualization?\n",
    "\n",
    "To see how each of the variables is correlated with the target variable, we will use the `corr()` method provided by `Pandas`."
   ]
  },
  {
   "cell_type": "code",
   "execution_count": 123,
   "metadata": {
    "collapsed": true
   },
   "outputs": [
    {
     "data": {
      "text/plain": [
       "2B             0.262323\n",
       "3B             0.016970\n",
       "AB             0.233996\n",
       "BB             0.345348\n",
       "BBA           -0.284782\n",
       "CG            -0.041788\n",
       "DP             0.015192\n",
       "E             -0.304725\n",
       "ER            -0.372580\n",
       "ERA           -0.425833\n",
       "FP             0.319597\n",
       "G              0.178958\n",
       "H              0.380281\n",
       "HA            -0.384893\n",
       "HR             0.312713\n",
       "HRA            0.009880\n",
       "IPouts         0.326087\n",
       "R              0.551504\n",
       "RA            -0.518313\n",
       "SB             0.133300\n",
       "SHO            0.426892\n",
       "SO             0.076779\n",
       "SOA            0.259205\n",
       "SV             0.382174\n",
       "W              1.000000\n",
       "Win_bins       0.912545\n",
       "decade_1910         NaN\n",
       "decade_1920         NaN\n",
       "decade_1930         NaN\n",
       "decade_1940         NaN\n",
       "decade_1950         NaN\n",
       "decade_1960         NaN\n",
       "decade_1970         NaN\n",
       "decade_1980         NaN\n",
       "decade_1990         NaN\n",
       "decade_2000         NaN\n",
       "decade_2010         NaN\n",
       "rpg            0.006909\n",
       "RA_per_game   -0.550696\n",
       "Name: W, dtype: float64"
      ]
     },
     "execution_count": 123,
     "metadata": {},
     "output_type": "execute_result"
    }
   ],
   "source": [
    "#### complete your code below\n",
    "#### check if features are highly correlated with Wins(`df['W']`) (>.5)\n",
    "df.corr()['W']"
   ]
  },
  {
   "cell_type": "markdown",
   "metadata": {},
   "source": [
    "You can observe some features are __highly__ correlated with Wins.\n",
    "\n",
    "However, that is not the whole picture - for instance, `RA_per_game` is not highly correlated with Wins. In fact, a feature can be __highly__ and __negatively__ correlated with your target.\n",
    "\n",
    "So the correct code should reflect that."
   ]
  },
  {
   "cell_type": "markdown",
   "metadata": {},
   "source": [
    "Now you can observe a few more are __highly__ correlated with Wins, such as `RA_per_game`.\n",
    "\n",
    "Above code is equivalent to:"
   ]
  },
  {
   "cell_type": "code",
   "execution_count": 124,
   "metadata": {
    "collapsed": true
   },
   "outputs": [
    {
     "data": {
      "text/plain": [
       "2B             False\n",
       "3B             False\n",
       "AB             False\n",
       "BB             False\n",
       "BBA            False\n",
       "CG             False\n",
       "DP             False\n",
       "E              False\n",
       "ER             False\n",
       "ERA            False\n",
       "FP             False\n",
       "G              False\n",
       "H              False\n",
       "HA             False\n",
       "HR             False\n",
       "HRA            False\n",
       "IPouts         False\n",
       "R               True\n",
       "RA              True\n",
       "SB             False\n",
       "SHO            False\n",
       "SO             False\n",
       "SOA            False\n",
       "SV             False\n",
       "W               True\n",
       "Win_bins        True\n",
       "decade_1910    False\n",
       "decade_1920    False\n",
       "decade_1930    False\n",
       "decade_1940    False\n",
       "decade_1950    False\n",
       "decade_1960    False\n",
       "decade_1970    False\n",
       "decade_1980    False\n",
       "decade_1990    False\n",
       "decade_2000    False\n",
       "decade_2010    False\n",
       "rpg            False\n",
       "RA_per_game     True\n",
       "Name: W, dtype: bool"
      ]
     },
     "execution_count": 124,
     "metadata": {},
     "output_type": "execute_result"
    }
   ],
   "source": [
    "s1 = df.corr()['W'] > 0.5 \n",
    "s2 = df.corr()['W'] < -0.5\n",
    "s1 | s2 # logical OR"
   ]
  },
  {
   "cell_type": "markdown",
   "metadata": {},
   "source": [
    "Now we can create a new dataframe `data_features` that only contains useful features (excluding the target and unwanted features)."
   ]
  },
  {
   "cell_type": "code",
   "execution_count": 125,
   "metadata": {
    "collapsed": true
   },
   "outputs": [
    {
     "data": {
      "text/html": [
       "<div>\n",
       "<style scoped>\n",
       "    .dataframe tbody tr th:only-of-type {\n",
       "        vertical-align: middle;\n",
       "    }\n",
       "\n",
       "    .dataframe tbody tr th {\n",
       "        vertical-align: top;\n",
       "    }\n",
       "\n",
       "    .dataframe thead th {\n",
       "        text-align: right;\n",
       "    }\n",
       "</style>\n",
       "<table border=\"1\" class=\"dataframe\">\n",
       "  <thead>\n",
       "    <tr style=\"text-align: right;\">\n",
       "      <th></th>\n",
       "      <th>G</th>\n",
       "      <th>R</th>\n",
       "      <th>AB</th>\n",
       "      <th>H</th>\n",
       "      <th>2B</th>\n",
       "      <th>3B</th>\n",
       "      <th>HR</th>\n",
       "      <th>BB</th>\n",
       "      <th>SO</th>\n",
       "      <th>SB</th>\n",
       "      <th>...</th>\n",
       "      <th>decade_1950</th>\n",
       "      <th>decade_1960</th>\n",
       "      <th>decade_1970</th>\n",
       "      <th>decade_1980</th>\n",
       "      <th>decade_1990</th>\n",
       "      <th>decade_2000</th>\n",
       "      <th>decade_2010</th>\n",
       "      <th>rpg</th>\n",
       "      <th>RA_per_game</th>\n",
       "      <th>rpg</th>\n",
       "    </tr>\n",
       "  </thead>\n",
       "  <tbody>\n",
       "    <tr>\n",
       "      <th>0</th>\n",
       "      <td>162.0</td>\n",
       "      <td>744.0</td>\n",
       "      <td>5424.0</td>\n",
       "      <td>1331.0</td>\n",
       "      <td>218.0</td>\n",
       "      <td>22.0</td>\n",
       "      <td>189.0</td>\n",
       "      <td>681.0</td>\n",
       "      <td>1068.0</td>\n",
       "      <td>37.0</td>\n",
       "      <td>...</td>\n",
       "      <td>NaN</td>\n",
       "      <td>NaN</td>\n",
       "      <td>NaN</td>\n",
       "      <td>NaN</td>\n",
       "      <td>NaN</td>\n",
       "      <td>NaN</td>\n",
       "      <td>NaN</td>\n",
       "      <td>4.525175</td>\n",
       "      <td>4.839506</td>\n",
       "      <td>4.525175</td>\n",
       "    </tr>\n",
       "    <tr>\n",
       "      <th>1</th>\n",
       "      <td>162.0</td>\n",
       "      <td>718.0</td>\n",
       "      <td>5499.0</td>\n",
       "      <td>1377.0</td>\n",
       "      <td>232.0</td>\n",
       "      <td>35.0</td>\n",
       "      <td>137.0</td>\n",
       "      <td>602.0</td>\n",
       "      <td>917.0</td>\n",
       "      <td>46.0</td>\n",
       "      <td>...</td>\n",
       "      <td>NaN</td>\n",
       "      <td>NaN</td>\n",
       "      <td>NaN</td>\n",
       "      <td>NaN</td>\n",
       "      <td>NaN</td>\n",
       "      <td>NaN</td>\n",
       "      <td>NaN</td>\n",
       "      <td>4.460518</td>\n",
       "      <td>4.358025</td>\n",
       "      <td>4.460518</td>\n",
       "    </tr>\n",
       "    <tr>\n",
       "      <th>2</th>\n",
       "      <td>161.0</td>\n",
       "      <td>597.0</td>\n",
       "      <td>5506.0</td>\n",
       "      <td>1378.0</td>\n",
       "      <td>208.0</td>\n",
       "      <td>38.0</td>\n",
       "      <td>95.0</td>\n",
       "      <td>448.0</td>\n",
       "      <td>916.0</td>\n",
       "      <td>43.0</td>\n",
       "      <td>...</td>\n",
       "      <td>NaN</td>\n",
       "      <td>NaN</td>\n",
       "      <td>NaN</td>\n",
       "      <td>NaN</td>\n",
       "      <td>NaN</td>\n",
       "      <td>NaN</td>\n",
       "      <td>NaN</td>\n",
       "      <td>3.946881</td>\n",
       "      <td>4.099379</td>\n",
       "      <td>3.946881</td>\n",
       "    </tr>\n",
       "    <tr>\n",
       "      <th>3</th>\n",
       "      <td>162.0</td>\n",
       "      <td>544.0</td>\n",
       "      <td>5362.0</td>\n",
       "      <td>1297.0</td>\n",
       "      <td>186.0</td>\n",
       "      <td>27.0</td>\n",
       "      <td>102.0</td>\n",
       "      <td>472.0</td>\n",
       "      <td>920.0</td>\n",
       "      <td>49.0</td>\n",
       "      <td>...</td>\n",
       "      <td>NaN</td>\n",
       "      <td>NaN</td>\n",
       "      <td>NaN</td>\n",
       "      <td>NaN</td>\n",
       "      <td>NaN</td>\n",
       "      <td>NaN</td>\n",
       "      <td>NaN</td>\n",
       "      <td>4.035670</td>\n",
       "      <td>3.401235</td>\n",
       "      <td>4.035670</td>\n",
       "    </tr>\n",
       "    <tr>\n",
       "      <th>4</th>\n",
       "      <td>162.0</td>\n",
       "      <td>527.0</td>\n",
       "      <td>5354.0</td>\n",
       "      <td>1279.0</td>\n",
       "      <td>200.0</td>\n",
       "      <td>36.0</td>\n",
       "      <td>92.0</td>\n",
       "      <td>443.0</td>\n",
       "      <td>973.0</td>\n",
       "      <td>107.0</td>\n",
       "      <td>...</td>\n",
       "      <td>NaN</td>\n",
       "      <td>NaN</td>\n",
       "      <td>NaN</td>\n",
       "      <td>NaN</td>\n",
       "      <td>NaN</td>\n",
       "      <td>NaN</td>\n",
       "      <td>NaN</td>\n",
       "      <td>3.988293</td>\n",
       "      <td>3.512346</td>\n",
       "      <td>3.988293</td>\n",
       "    </tr>\n",
       "  </tbody>\n",
       "</table>\n",
       "<p>5 rows × 38 columns</p>\n",
       "</div>"
      ],
      "text/plain": [
       "       G      R      AB       H     2B    3B     HR     BB      SO     SB  \\\n",
       "0  162.0  744.0  5424.0  1331.0  218.0  22.0  189.0  681.0  1068.0   37.0   \n",
       "1  162.0  718.0  5499.0  1377.0  232.0  35.0  137.0  602.0   917.0   46.0   \n",
       "2  161.0  597.0  5506.0  1378.0  208.0  38.0   95.0  448.0   916.0   43.0   \n",
       "3  162.0  544.0  5362.0  1297.0  186.0  27.0  102.0  472.0   920.0   49.0   \n",
       "4  162.0  527.0  5354.0  1279.0  200.0  36.0   92.0  443.0   973.0  107.0   \n",
       "\n",
       "   ...  decade_1950  decade_1960  decade_1970  decade_1980  decade_1990  \\\n",
       "0  ...          NaN          NaN          NaN          NaN          NaN   \n",
       "1  ...          NaN          NaN          NaN          NaN          NaN   \n",
       "2  ...          NaN          NaN          NaN          NaN          NaN   \n",
       "3  ...          NaN          NaN          NaN          NaN          NaN   \n",
       "4  ...          NaN          NaN          NaN          NaN          NaN   \n",
       "\n",
       "   decade_2000  decade_2010       rpg  RA_per_game       rpg  \n",
       "0          NaN          NaN  4.525175     4.839506  4.525175  \n",
       "1          NaN          NaN  4.460518     4.358025  4.460518  \n",
       "2          NaN          NaN  3.946881     4.099379  3.946881  \n",
       "3          NaN          NaN  4.035670     3.401235  4.035670  \n",
       "4          NaN          NaN  3.988293     3.512346  3.988293  \n",
       "\n",
       "[5 rows x 38 columns]"
      ]
     },
     "execution_count": 125,
     "metadata": {},
     "output_type": "execute_result"
    }
   ],
   "source": [
    "#Creating a new dataframe excluding the target variable \n",
    "\n",
    "attributes = ['G','R','AB','H','2B','3B','HR','BB','SO','SB','RA','ER','ERA','CG',\n",
    "             'SHO','SV','IPouts','HA','HRA','BBA','SOA','E','DP','FP','decade_1910','decade_1920',\n",
    "              'decade_1930','decade_1940','decade_1950','decade_1960','decade_1970','decade_1980',\n",
    "             'decade_1990','decade_2000','decade_2010','rpg','RA_per_game','rpg']\n",
    "\n",
    "\n",
    "data_features = df[attributes]\n",
    "\n",
    "# check the first 5 rows of `data_features`\n",
    "data_features.head()"
   ]
  },
  {
   "cell_type": "markdown",
   "metadata": {},
   "source": [
    "We can use following code to determine what columns are excluded in `data_features`."
   ]
  },
  {
   "cell_type": "code",
   "execution_count": 126,
   "metadata": {
    "collapsed": true
   },
   "outputs": [
    {
     "data": {
      "text/plain": [
       "{'W', 'Win_bins', 'teamID'}"
      ]
     },
     "execution_count": 126,
     "metadata": {},
     "output_type": "execute_result"
    }
   ],
   "source": [
    "set(df.columns) - set(data_features.columns)"
   ]
  },
  {
   "cell_type": "markdown",
   "metadata": {},
   "source": [
    "I believe we complete the data preparation phase of the analysis.\n",
    "\n",
    "Let's save the processed data to CSV files so that we can re-use it in part 3."
   ]
  },
  {
   "cell_type": "code",
   "execution_count": 129,
   "metadata": {
    "collapsed": true
   },
   "outputs": [],
   "source": [
    "# save all features to a CSV file `baseball_analytics_features.csv`\n",
    "#data_features.to_csv('./data/baseball_analytics_features.csv')\n",
    "\n",
    "# don't forget to save the target variable to another CSV file `baseball_analytics_target.csv`\n",
    "df.Win_bins.to_csv('./data/baseball_analytics_target.csv',header=True)\n",
    "\n",
    "# we also want to save the # of wins in the original data for further analysis\n",
    "df.W.to_csv('./data/baseball_analytics_wins.csv',header=True)"
   ]
  },
  {
   "cell_type": "markdown",
   "metadata": {},
   "source": [
    "That's all for part 2. Please make sure your sync the complete notebook to your github repo for submission."
   ]
  },
  {
   "cell_type": "code",
   "execution_count": null,
   "metadata": {
    "collapsed": true
   },
   "outputs": [],
   "source": []
  }
 ],
 "metadata": {
  "kernelspec": {
   "display_name": "Python 3",
   "language": "python",
   "name": "python3"
  },
  "language_info": {
   "codemirror_mode": {
    "name": "ipython",
    "version": 3
   },
   "file_extension": ".py",
   "mimetype": "text/x-python",
   "name": "python",
   "nbconvert_exporter": "python",
   "pygments_lexer": "ipython3",
   "version": "3.6.8"
  }
 },
 "nbformat": 4,
 "nbformat_minor": 2
}
